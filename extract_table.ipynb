{
  "nbformat": 4,
  "nbformat_minor": 0,
  "metadata": {
    "colab": {
      "provenance": [],
      "authorship_tag": "ABX9TyNlOFcKlUgU7iQ81Mu/mftq",
      "include_colab_link": true
    },
    "kernelspec": {
      "name": "python3",
      "display_name": "Python 3"
    },
    "language_info": {
      "name": "python"
    }
  },
  "cells": [
    {
      "cell_type": "markdown",
      "metadata": {
        "id": "view-in-github",
        "colab_type": "text"
      },
      "source": [
        "<a href=\"https://colab.research.google.com/github/Surya152002/CFSOCR/blob/main/extract_table.ipynb\" target=\"_parent\"><img src=\"https://colab.research.google.com/assets/colab-badge.svg\" alt=\"Open In Colab\"/></a>"
      ]
    },
    {
      "cell_type": "code",
      "source": [
        "!pip install pytesseract\n",
        "!pip install pdf2image\n",
        "!pip install pillow\n",
        "!pip install python-docx\n"
      ],
      "metadata": {
        "colab": {
          "base_uri": "https://localhost:8080/"
        },
        "id": "uLEbanBZcKmw",
        "outputId": "7fa1d3bc-4e9b-4b72-96d9-b6adf49af72c"
      },
      "execution_count": 1,
      "outputs": [
        {
          "output_type": "stream",
          "name": "stdout",
          "text": [
            "Looking in indexes: https://pypi.org/simple, https://us-python.pkg.dev/colab-wheels/public/simple/\n",
            "Collecting pytesseract\n",
            "  Downloading pytesseract-0.3.10-py3-none-any.whl (14 kB)\n",
            "Requirement already satisfied: packaging>=21.3 in /usr/local/lib/python3.10/dist-packages (from pytesseract) (23.1)\n",
            "Requirement already satisfied: Pillow>=8.0.0 in /usr/local/lib/python3.10/dist-packages (from pytesseract) (8.4.0)\n",
            "Installing collected packages: pytesseract\n",
            "Successfully installed pytesseract-0.3.10\n",
            "Looking in indexes: https://pypi.org/simple, https://us-python.pkg.dev/colab-wheels/public/simple/\n",
            "Collecting pdf2image\n",
            "  Downloading pdf2image-1.16.3-py3-none-any.whl (11 kB)\n",
            "Requirement already satisfied: pillow in /usr/local/lib/python3.10/dist-packages (from pdf2image) (8.4.0)\n",
            "Installing collected packages: pdf2image\n",
            "Successfully installed pdf2image-1.16.3\n",
            "Looking in indexes: https://pypi.org/simple, https://us-python.pkg.dev/colab-wheels/public/simple/\n",
            "Requirement already satisfied: pillow in /usr/local/lib/python3.10/dist-packages (8.4.0)\n",
            "Looking in indexes: https://pypi.org/simple, https://us-python.pkg.dev/colab-wheels/public/simple/\n",
            "Collecting python-docx\n",
            "  Downloading python-docx-0.8.11.tar.gz (5.6 MB)\n",
            "\u001b[2K     \u001b[90m━━━━━━━━━━━━━━━━━━━━━━━━━━━━━━━━━━━━━━━━\u001b[0m \u001b[32m5.6/5.6 MB\u001b[0m \u001b[31m43.3 MB/s\u001b[0m eta \u001b[36m0:00:00\u001b[0m\n",
            "\u001b[?25h  Preparing metadata (setup.py) ... \u001b[?25l\u001b[?25hdone\n",
            "Requirement already satisfied: lxml>=2.3.2 in /usr/local/lib/python3.10/dist-packages (from python-docx) (4.9.2)\n",
            "Building wheels for collected packages: python-docx\n",
            "  Building wheel for python-docx (setup.py) ... \u001b[?25l\u001b[?25hdone\n",
            "  Created wheel for python-docx: filename=python_docx-0.8.11-py3-none-any.whl size=184491 sha256=738aec0c6f31f1f3c140a1bee566df4cbbefd6eb4c8c096c4d1b4806b1414007\n",
            "  Stored in directory: /root/.cache/pip/wheels/80/27/06/837436d4c3bd989b957a91679966f207bfd71d358d63a8194d\n",
            "Successfully built python-docx\n",
            "Installing collected packages: python-docx\n",
            "Successfully installed python-docx-0.8.11\n"
          ]
        }
      ]
    },
    {
      "cell_type": "code",
      "source": [
        "!apt-get install poppler-utils\n"
      ],
      "metadata": {
        "colab": {
          "base_uri": "https://localhost:8080/"
        },
        "id": "v_9FZWitc4bA",
        "outputId": "b031dbfe-de35-43ed-efd8-2061e62d8b93"
      },
      "execution_count": 2,
      "outputs": [
        {
          "output_type": "stream",
          "name": "stdout",
          "text": [
            "Reading package lists... Done\n",
            "Building dependency tree       \n",
            "Reading state information... Done\n",
            "The following NEW packages will be installed:\n",
            "  poppler-utils\n",
            "0 upgraded, 1 newly installed, 0 to remove and 28 not upgraded.\n",
            "Need to get 174 kB of archives.\n",
            "After this operation, 754 kB of additional disk space will be used.\n",
            "Get:1 http://archive.ubuntu.com/ubuntu focal-updates/main amd64 poppler-utils amd64 0.86.1-0ubuntu1.1 [174 kB]\n",
            "Fetched 174 kB in 0s (608 kB/s)\n",
            "Selecting previously unselected package poppler-utils.\n",
            "(Reading database ... 122532 files and directories currently installed.)\n",
            "Preparing to unpack .../poppler-utils_0.86.1-0ubuntu1.1_amd64.deb ...\n",
            "Unpacking poppler-utils (0.86.1-0ubuntu1.1) ...\n",
            "Setting up poppler-utils (0.86.1-0ubuntu1.1) ...\n",
            "Processing triggers for man-db (2.9.1-1) ...\n"
          ]
        }
      ]
    },
    {
      "cell_type": "code",
      "source": [
        "!apt-get install tesseract-ocr\n"
      ],
      "metadata": {
        "colab": {
          "base_uri": "https://localhost:8080/"
        },
        "id": "mW2_oPk9dOWm",
        "outputId": "03d51052-0b5d-42b6-d629-c76107de5e0e"
      },
      "execution_count": 3,
      "outputs": [
        {
          "output_type": "stream",
          "name": "stdout",
          "text": [
            "Reading package lists... Done\n",
            "Building dependency tree       \n",
            "Reading state information... Done\n",
            "The following additional packages will be installed:\n",
            "  tesseract-ocr-eng tesseract-ocr-osd\n",
            "The following NEW packages will be installed:\n",
            "  tesseract-ocr tesseract-ocr-eng tesseract-ocr-osd\n",
            "0 upgraded, 3 newly installed, 0 to remove and 28 not upgraded.\n",
            "Need to get 4,850 kB of archives.\n",
            "After this operation, 16.3 MB of additional disk space will be used.\n",
            "Get:1 http://archive.ubuntu.com/ubuntu focal/universe amd64 tesseract-ocr-eng all 1:4.00~git30-7274cfa-1 [1,598 kB]\n",
            "Get:2 http://archive.ubuntu.com/ubuntu focal/universe amd64 tesseract-ocr-osd all 1:4.00~git30-7274cfa-1 [2,990 kB]\n",
            "Get:3 http://archive.ubuntu.com/ubuntu focal/universe amd64 tesseract-ocr amd64 4.1.1-2build2 [262 kB]\n",
            "Fetched 4,850 kB in 0s (13.1 MB/s)\n",
            "Selecting previously unselected package tesseract-ocr-eng.\n",
            "(Reading database ... 122562 files and directories currently installed.)\n",
            "Preparing to unpack .../tesseract-ocr-eng_1%3a4.00~git30-7274cfa-1_all.deb ...\n",
            "Unpacking tesseract-ocr-eng (1:4.00~git30-7274cfa-1) ...\n",
            "Selecting previously unselected package tesseract-ocr-osd.\n",
            "Preparing to unpack .../tesseract-ocr-osd_1%3a4.00~git30-7274cfa-1_all.deb ...\n",
            "Unpacking tesseract-ocr-osd (1:4.00~git30-7274cfa-1) ...\n",
            "Selecting previously unselected package tesseract-ocr.\n",
            "Preparing to unpack .../tesseract-ocr_4.1.1-2build2_amd64.deb ...\n",
            "Unpacking tesseract-ocr (4.1.1-2build2) ...\n",
            "Setting up tesseract-ocr-eng (1:4.00~git30-7274cfa-1) ...\n",
            "Setting up tesseract-ocr-osd (1:4.00~git30-7274cfa-1) ...\n",
            "Setting up tesseract-ocr (4.1.1-2build2) ...\n",
            "Processing triggers for man-db (2.9.1-1) ...\n"
          ]
        }
      ]
    },
    {
      "cell_type": "code",
      "source": [
        "!pip install img2table"
      ],
      "metadata": {
        "colab": {
          "base_uri": "https://localhost:8080/"
        },
        "id": "l-e9W9vBlZQQ",
        "outputId": "a9ef8f71-4975-4be2-9e5f-9f8c7633c071"
      },
      "execution_count": 5,
      "outputs": [
        {
          "output_type": "stream",
          "name": "stdout",
          "text": [
            "Looking in indexes: https://pypi.org/simple, https://us-python.pkg.dev/colab-wheels/public/simple/\n",
            "Collecting img2table\n",
            "  Downloading img2table-0.1.4-py3-none-any.whl (66 kB)\n",
            "\u001b[2K     \u001b[90m━━━━━━━━━━━━━━━━━━━━━━━━━━━━━━━━━━━━━━━━\u001b[0m \u001b[32m66.9/66.9 kB\u001b[0m \u001b[31m2.7 MB/s\u001b[0m eta \u001b[36m0:00:00\u001b[0m\n",
            "\u001b[?25hRequirement already satisfied: polars[pandas]>=0.17.0 in /usr/local/lib/python3.10/dist-packages (from img2table) (0.17.3)\n",
            "Requirement already satisfied: pyarrow>=7 in /usr/local/lib/python3.10/dist-packages (from img2table) (9.0.0)\n",
            "Requirement already satisfied: numpy in /usr/local/lib/python3.10/dist-packages (from img2table) (1.22.4)\n",
            "Collecting pymupdf>=1.19.1 (from img2table)\n",
            "  Downloading PyMuPDF-1.22.3-cp310-cp310-manylinux_2_17_x86_64.manylinux2014_x86_64.whl (14.1 MB)\n",
            "\u001b[2K     \u001b[90m━━━━━━━━━━━━━━━━━━━━━━━━━━━━━━━━━━━━━━━━\u001b[0m \u001b[32m14.1/14.1 MB\u001b[0m \u001b[31m84.8 MB/s\u001b[0m eta \u001b[36m0:00:00\u001b[0m\n",
            "\u001b[?25hRequirement already satisfied: opencv-python in /usr/local/lib/python3.10/dist-packages (from img2table) (4.7.0.72)\n",
            "Requirement already satisfied: beautifulsoup4 in /usr/local/lib/python3.10/dist-packages (from img2table) (4.11.2)\n",
            "Collecting xlsxwriter>=3.0.6 (from img2table)\n",
            "  Downloading XlsxWriter-3.1.1-py3-none-any.whl (152 kB)\n",
            "\u001b[2K     \u001b[90m━━━━━━━━━━━━━━━━━━━━━━━━━━━━━━━━━━━━━━\u001b[0m \u001b[32m152.9/152.9 kB\u001b[0m \u001b[31m13.3 MB/s\u001b[0m eta \u001b[36m0:00:00\u001b[0m\n",
            "\u001b[?25hRequirement already satisfied: typing_extensions>=4.0.1 in /usr/local/lib/python3.10/dist-packages (from polars[pandas]>=0.17.0->img2table) (4.5.0)\n",
            "Requirement already satisfied: pandas in /usr/local/lib/python3.10/dist-packages (from polars[pandas]>=0.17.0->img2table) (1.5.3)\n",
            "Requirement already satisfied: soupsieve>1.2 in /usr/local/lib/python3.10/dist-packages (from beautifulsoup4->img2table) (2.4.1)\n",
            "Requirement already satisfied: python-dateutil>=2.8.1 in /usr/local/lib/python3.10/dist-packages (from pandas->polars[pandas]>=0.17.0->img2table) (2.8.2)\n",
            "Requirement already satisfied: pytz>=2020.1 in /usr/local/lib/python3.10/dist-packages (from pandas->polars[pandas]>=0.17.0->img2table) (2022.7.1)\n",
            "Requirement already satisfied: six>=1.5 in /usr/local/lib/python3.10/dist-packages (from python-dateutil>=2.8.1->pandas->polars[pandas]>=0.17.0->img2table) (1.16.0)\n",
            "Installing collected packages: xlsxwriter, pymupdf, img2table\n",
            "Successfully installed img2table-0.1.4 pymupdf-1.22.3 xlsxwriter-3.1.1\n"
          ]
        }
      ]
    },
    {
      "cell_type": "code",
      "source": [
        "from img2table.document import PDF\n",
        "from img2table.ocr import TesseractOCR\n",
        "\n",
        "# Instantiation of the pdf\n",
        "pdf = PDF(src=\"/content/diftab.pdf\")\n",
        "\n",
        "# Instantiation of the OCR, Tesseract, which requires prior installation\n",
        "ocr = TesseractOCR(lang=\"eng\")\n",
        "\n",
        "# Table identification and extraction\n",
        "pdf_tables = pdf.extract_tables(ocr=ocr)\n",
        "\n",
        "# We can also create an excel file with the tables\n",
        "pdf.to_xlsx('tables2.xlsx',\n",
        "            ocr=ocr)"
      ],
      "metadata": {
        "id": "VHPDPuDGk6NC"
      },
      "execution_count": 10,
      "outputs": []
    },
    {
      "cell_type": "code",
      "execution_count": null,
      "metadata": {
        "colab": {
          "base_uri": "https://localhost:8080/"
        },
        "id": "ovkXA9zub_AO",
        "outputId": "4268b4fe-b27e-467d-eade-7bd4060ea3cd"
      },
      "outputs": [
        {
          "output_type": "stream",
          "name": "stdout",
          "text": [
            "1 table(s) extracted and saved as Word documents.\n"
          ]
        }
      ],
      "source": [
        "import re\n",
        "import pytesseract\n",
        "from pdf2image import convert_from_path\n",
        "from PIL import Image\n",
        "from docx import Document\n",
        "\n",
        "# Step 1: Convert the PDF to images\n",
        "pdf_path = '/content/table.pdf'\n",
        "images = convert_from_path(pdf_path)\n",
        "\n",
        "# Step 2: Process the images and extract text using OCR\n",
        "extracted_text = []\n",
        "for image in images:\n",
        "    extracted_text.append(pytesseract.image_to_string(image))\n",
        "\n",
        "# Step 3: Identify the table using regex pattern\n",
        "table_pattern = r\"((?:[^\\n]*\\n){3,}(?:[^\\n]*\\n){2,}[^\\n]*)\"\n",
        "tables = re.findall(table_pattern, '\\n'.join(extracted_text), re.MULTILINE)\n",
        "\n",
        "# Step 4: Create a Word document for each table found\n",
        "if tables:\n",
        "    for i, table_text in enumerate(tables):\n",
        "        # Remove invalid characters\n",
        "        clean_table_text = ''.join(c for c in table_text if c.isprintable())\n",
        "        \n",
        "        document = Document()\n",
        "        table = document.add_table(rows=1, cols=1)\n",
        "        table.cell(0, 0).text = clean_table_text\n",
        "        document.save(f'/content/table_{i+1}.docx')\n",
        "    print(f\"{len(tables)} table(s) extracted and saved as Word documents.\")\n",
        "else:\n",
        "    print(\"No tables found in the PDF.\")\n"
      ]
    },
    {
      "cell_type": "code",
      "source": [
        "import re\n",
        "import pytesseract\n",
        "from pdf2image import convert_from_path\n",
        "from PIL import Image\n",
        "import openpyxl\n",
        "from openpyxl.utils import get_column_letter\n",
        "from openpyxl.styles import Alignment, Border, Side\n",
        "\n",
        "# Step 1: Convert the PDF to images\n",
        "pdf_path = '/content/table.pdf'\n",
        "images = convert_from_path(pdf_path)\n",
        "\n",
        "# Step 2: Process the images and extract text using OCR\n",
        "extracted_text = []\n",
        "for image in images:\n",
        "    extracted_text.append(pytesseract.image_to_string(image))\n",
        "\n",
        "# Step 3: Identify the table using regex pattern\n",
        "table_pattern = r\"((?:[^\\n]*\\n){3,}(?:[^\\n]*\\n){2,}[^\\n]*)\"\n",
        "tables = re.findall(table_pattern, '\\n'.join(extracted_text), re.MULTILINE)\n",
        "\n",
        "# Step 4: Create an Excel workbook and save the tables\n",
        "if tables:\n",
        "    workbook = openpyxl.Workbook()\n",
        "    for i, table_text in enumerate(tables):\n",
        "        # Remove illegal characters\n",
        "        clean_table_text = ''.join(c for c in table_text if c.isprintable() and c != '\\x0c')\n",
        "        \n",
        "        worksheet = workbook.create_sheet(title=f'Table {i+1}')\n",
        "        rows = clean_table_text.split('\\n')\n",
        "        \n",
        "        for row_idx, row in enumerate(rows):\n",
        "            columns = row.split('\\t')\n",
        "            \n",
        "            for col_idx, col in enumerate(columns):\n",
        "                clean_col = ''.join(c for c in col if c.isprintable())\n",
        "                worksheet.cell(row=row_idx+1, column=col_idx+1, value=clean_col)\n",
        "                \n",
        "                cell = worksheet.cell(row=row_idx+1, column=col_idx+1)\n",
        "                cell.border = Border(\n",
        "                    left=Side(style='thin'),\n",
        "                    right=Side(style='thin'),\n",
        "                    top=Side(style='thin'),\n",
        "                    bottom=Side(style='thin')\n",
        "                )\n",
        "                cell.alignment = Alignment(wrap_text=True)\n",
        "                worksheet.column_dimensions[get_column_letter(col_idx+1)].width = 15\n",
        "    \n",
        "    # Remove the default sheet created by openpyxl\n",
        "    workbook.remove(workbook['Sheet'])\n",
        "    \n",
        "    workbook.save('/content/tables.xlsx')\n",
        "    print(f\"{len(tables)} table(s) extracted and saved as tables.xlsx\")\n",
        "else:\n",
        "    print(\"No tables found in the PDF.\")\n"
      ],
      "metadata": {
        "colab": {
          "base_uri": "https://localhost:8080/"
        },
        "id": "DYSQmVatgvnV",
        "outputId": "a0de81b8-a74d-4a79-b924-f82293e8f84a"
      },
      "execution_count": null,
      "outputs": [
        {
          "output_type": "stream",
          "name": "stdout",
          "text": [
            "1 table(s) extracted and saved as tables.xlsx\n"
          ]
        }
      ]
    },
    {
      "cell_type": "code",
      "source": [
        "import pdf2image\n",
        "import pytesseract\n",
        "import cv2\n",
        "import numpy as np\n",
        "\n",
        "def extract_tables_from_pdf(pdf_path):\n",
        "    images = pdf2image.convert_from_path(pdf_path)\n",
        "\n",
        "    tables = []\n",
        "    for i, image in enumerate(images):\n",
        "        img_cv = cv2.cvtColor(np.array(image), cv2.COLOR_RGB2BGR)\n",
        "        extracted_text = pytesseract.image_to_string(img_cv)\n",
        "        lines = extracted_text.split('\\n')\n",
        "\n",
        "        table_lines = []\n",
        "        prev_y = None\n",
        "        for line in lines:\n",
        "            if line.strip():\n",
        "                try:\n",
        "                    y = int(line.split(' ')[0])\n",
        "                    if prev_y is None:\n",
        "                        prev_y = y\n",
        "                    elif abs(y - prev_y) > 50:  # Adjust the threshold as per your needs\n",
        "                        table_lines.append(line)\n",
        "                    prev_y = y\n",
        "                except ValueError:\n",
        "                    continue\n",
        "\n",
        "        if table_lines:\n",
        "            tables.append(table_lines)\n",
        "\n",
        "    return tables\n",
        "\n",
        "def print_tables(tables):\n",
        "    for i, table in enumerate(tables):\n",
        "        print(f\"Table {i+1}:\")\n",
        "        for line in table:\n",
        "            print(line)\n",
        "\n",
        "# Usage example\n",
        "pdf_file = '/content/table.pdf'\n",
        "tables = extract_tables_from_pdf(pdf_file)\n",
        "print_tables(tables)\n"
      ],
      "metadata": {
        "id": "rkjiwa4Jjm16"
      },
      "execution_count": null,
      "outputs": []
    },
    {
      "cell_type": "code",
      "source": [
        "import pandas as pd\n",
        "from docx import Document\n",
        "\n",
        "# Read data from Excel file\n",
        "excel_file = '/content/tables2.xlsx'\n",
        "df = pd.read_excel(excel_file)\n",
        "\n",
        "# Create a new Word document\n",
        "doc = Document()\n",
        "\n",
        "# Create a table in the Word document\n",
        "table = doc.add_table(rows=df.shape[0]+1, cols=df.shape[1])\n",
        "table.style = 'Table Grid'\n",
        "\n",
        "# Set the column headers\n",
        "for i, column_name in enumerate(df.columns):\n",
        "    table.cell(0, i).text = column_name\n",
        "\n",
        "# Fill in the data rows\n",
        "for i, row in df.iterrows():\n",
        "    for j, value in enumerate(row):\n",
        "        table.cell(i+1, j).text = str(value)\n",
        "\n",
        "# Save the Word document\n",
        "word_file = '/content/file9.docx'\n",
        "doc.save(word_file)\n",
        "\n",
        "print('Data extracted from Excel and pasted into Word in table format.')\n"
      ],
      "metadata": {
        "colab": {
          "base_uri": "https://localhost:8080/"
        },
        "id": "UB9SZD5szAQo",
        "outputId": "0225aed1-88f0-4648-afb9-83eeb639cdc2"
      },
      "execution_count": null,
      "outputs": [
        {
          "output_type": "stream",
          "name": "stdout",
          "text": [
            "Data extracted from Excel and pasted into Word in table format.\n"
          ]
        }
      ]
    },
    {
      "cell_type": "code",
      "source": [
        "import openpyxl\n",
        "from docx import Document\n",
        "from docx.enum.table import WD_TABLE_ALIGNMENT\n",
        "from docx.enum.table import WD_CELL_VERTICAL_ALIGNMENT\n",
        "\n",
        "def excel_to_word(excel_file, word_file):\n",
        "    # Load the Excel file\n",
        "    wb = openpyxl.load_workbook(excel_file)\n",
        "    sheet = wb.active\n",
        "\n",
        "    # Get the data from the Excel sheet\n",
        "    data = []\n",
        "    for row in sheet.iter_rows(values_only=True):\n",
        "        data.append(row)\n",
        "\n",
        "    # Create a Word document\n",
        "    doc = Document()\n",
        "\n",
        "    # Populate the Word document with the Excel data\n",
        "    for row in data:\n",
        "        table = doc.add_table(rows=1, cols=len(row))\n",
        "        table.autofit = False\n",
        "        \n",
        "        # Apply table style\n",
        "        table.style = 'Table Grid'  # Replace with the desired table style\n",
        "        \n",
        "        # Set table alignment\n",
        "        table.alignment = WD_TABLE_ALIGNMENT.CENTER\n",
        "        \n",
        "        # Set vertical alignment for cells\n",
        "        for cell in table.columns[0].cells:\n",
        "            cell.vertical_alignment = WD_CELL_VERTICAL_ALIGNMENT.CENTER\n",
        "        \n",
        "        for i, cell_value in enumerate(row):\n",
        "            cell = table.cell(0, i)\n",
        "            cell.text = str(cell_value)\n",
        "\n",
        "    # Save the Word document\n",
        "    doc.save(word_file)\n",
        "\n",
        "# Usage example\n",
        "excel_file = '/content/tables2.xlsx'\n",
        "word_file = '/content/file.docx'\n",
        "excel_to_word(excel_file, word_file)\n"
      ],
      "metadata": {
        "id": "XvpJVsyYqX9Y"
      },
      "execution_count": null,
      "outputs": []
    },
    {
      "cell_type": "code",
      "source": [
        "import pandas as pd\n",
        "from docx import Document\n",
        "\n",
        "# Read data from Excel file\n",
        "excel_file = '/content/tables2.xlsx'\n",
        "df = pd.read_excel(excel_file)\n",
        "\n",
        "# Create a new Word document\n",
        "doc = Document()\n",
        "\n",
        "# Create a table in the Word document\n",
        "table = doc.add_table(rows=df.shape[0]+1, cols=df.shape[1])\n",
        "table.style = 'Table Grid'\n",
        "\n",
        "# Set the column headers\n",
        "for i, column_name in enumerate(df.columns):\n",
        "    table.cell(0, i).text = column_name\n",
        "\n",
        "# Fill in the data rows\n",
        "for i, row in df.iterrows():\n",
        "    for j, value in enumerate(row):\n",
        "        table.cell(i+1, j).text = str(value)\n",
        "\n",
        "# Save the Word document\n",
        "word_file = '/content/file8.docx'\n",
        "doc.save(word_file)\n",
        "\n",
        "print('Data extracted from Excel and pasted into Word in table format.')\n"
      ],
      "metadata": {
        "colab": {
          "base_uri": "https://localhost:8080/"
        },
        "id": "5O1n2bWVwkgf",
        "outputId": "bd335a0f-9eaf-458d-9489-46332514bd43"
      },
      "execution_count": null,
      "outputs": [
        {
          "output_type": "stream",
          "name": "stdout",
          "text": [
            "Data extracted from Excel and pasted into Word in table format.\n"
          ]
        }
      ]
    }
  ]
}